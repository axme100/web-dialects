{
 "cells": [
  {
   "cell_type": "markdown",
   "metadata": {},
   "source": [
    "# Create Postgres Database and Import Mark Davies Spanish Web/Dialects Corpus (Sample Files) into Postres SQL Database"
   ]
  },
  {
   "cell_type": "code",
   "execution_count": null,
   "metadata": {},
   "outputs": [],
   "source": [
    "import os\n",
    "from sqlalchemy import create_engine\n",
    "from sqlalchemy_utils import database_exists, create_database\n",
    "from sqlalchemy.orm import relationship\n",
    "import pandas as pd\n",
    "import numpy as np\n",
    "from sqlalchemy.ext.declarative import declarative_base\n",
    "from sqlalchemy import Column, ForeignKey, String, Integer, Float, Boolean, UniqueConstraint"
   ]
  },
  {
   "cell_type": "code",
   "execution_count": null,
   "metadata": {},
   "outputs": [],
   "source": [
    "# Connect to datbase named corpus\n",
    "dbURL = 'postgres+psycopg2://maxcarey:<password>@localhost:5432/corpus'\n",
    "\n",
    "engine = create_engine(dbURL)\n",
    "\n",
    "# Here it a tutorial that I loosely followed to get the logic for the next\n",
    "# few lines: #https://www.compose.com/articles/using-postgresql-through-sqlalchemy\n",
    "# If the database specified at the end of the database url does not \n",
    "# work then I need this logic in order to create the database\n",
    "# You can see this here: https://stackoverflow.com/a/30971098/5420796\n",
    "if not database_exists(engine.url):\n",
    "    create_database(engine.url)\n",
    "print(database_exists(engine.url))\n",
    "\n",
    "session = engine.connect()\n",
    "Base = declarative_base()"
   ]
  },
  {
   "cell_type": "code",
   "execution_count": null,
   "metadata": {},
   "outputs": [],
   "source": [
    "class Corpus(Base):\n",
    "    __tablename__ = 'corpus'\n",
    "\n",
    "    # The ordered words in the corpus\n",
    "    corpus_id = Column(String(), unique=True, primary_key=True)\n",
    "    \n",
    "    # The id of the html page in the source table\n",
    "    source_html_id = Column(String(), ForeignKey('source.source_html_id'), ForeignKey('source_info.source_html_id'))\n",
    "    \n",
    "    # The id of the word in the lexicon table\n",
    "    word_id = Column(String(), ForeignKey('lexicon.id'))\n",
    "\n",
    "    # What we have hear is many-to-one relationship in which\n",
    "    # This is the parent table\n",
    "    # See https://docs.sqlalchemy.org/en/13/orm/basic_relationships.html#many-to-one\n",
    "    source = relationship(\"Child\")\n",
    "    lexicon = relationship(\"Lexicon\")"
   ]
  },
  {
   "cell_type": "code",
   "execution_count": null,
   "metadata": {},
   "outputs": [],
   "source": [
    "class Lexicon(Base):\n",
    "    __tablename__ = 'lexicon'\n",
    "\n",
    "    # The words in the corpus\n",
    "    id = Column(String(), primary_key=True)\n",
    "    \n",
    "    # The headword\n",
    "    word = Column(String())\n",
    "    \n",
    "    # Lemma\n",
    "    lemma = Column(String())\n",
    "    \n",
    "    # The part of speach of the actual word\n",
    "    pos = Column(String())"
   ]
  },
  {
   "cell_type": "code",
   "execution_count": null,
   "metadata": {},
   "outputs": [],
   "source": [
    "class Source(Base):\n",
    "    __tablename__ = 'source'\n",
    "\n",
    "    # The HTML of the text\n",
    "    source_html_id = Column(String(), primary_key=True)\n",
    "    \n",
    "    # The id of the html page in the source table\n",
    "    text = Column(String())"
   ]
  },
  {
   "cell_type": "code",
   "execution_count": null,
   "metadata": {},
   "outputs": [],
   "source": [
    "class SourceInfo(Base):\n",
    "    __tablename__ = 'source_info'\n",
    "    \n",
    "    # The id of the actual text\n",
    "    source_html_id = Column(String(), primary_key=True)\n",
    "    \n",
    "    # Num words\n",
    "    num_words = Column(Integer())\n",
    "    \n",
    "    # Genre\n",
    "    genre = Column(String())\n",
    "    \n",
    "    # Country\n",
    "    country = Column(String())\n",
    "    \n",
    "    # Website\n",
    "    website = Column(String())\n",
    "    \n",
    "    # URL\n",
    "    url = Column(String())\n",
    "    \n",
    "    # Title\n",
    "    title = Column(String())"
   ]
  },
  {
   "cell_type": "code",
   "execution_count": null,
   "metadata": {},
   "outputs": [],
   "source": [
    "Base.metadata.create_all(engine)\n",
    "print(database_exists(engine.url))"
   ]
  },
  {
   "cell_type": "code",
   "execution_count": null,
   "metadata": {},
   "outputs": [],
   "source": [
    "corpus = pd.read_csv('raw_data/corpus.txt', delimiter='\\t')\n",
    "source = pd.read_csv('raw_data/source.txt', delimiter='\\t')\n",
    "lexicon = pd.read_csv('raw_data/lexicon.txt', delimiter='\\t')\n",
    "source_info = pd.read_csv('raw_data/source_info.txt', delimiter='\\t')"
   ]
  },
  {
   "cell_type": "code",
   "execution_count": null,
   "metadata": {},
   "outputs": [],
   "source": [
    "source_info.head(n=100)"
   ]
  },
  {
   "cell_type": "code",
   "execution_count": null,
   "metadata": {},
   "outputs": [],
   "source": [
    "# Change the names of the corpus to make it a little easier to understnad\n",
    "corpus = corpus.rename(columns={\"textID\": \"source_html_id\", \"ID\": \"corpus_id\", \"wID\": \"word_id\"})\n",
    "source = source.rename(columns={\"textID\": \"source_html_id\"})\n",
    "lexicon = lexicon.rename(columns={\"wID\": \"id\", \"PoS\": \"pos\"})\n",
    "source_info = source_info.rename(columns={\"textID\": \"source_html_id\", \"#words\": \"num_words\"})"
   ]
  },
  {
   "cell_type": "code",
   "execution_count": null,
   "metadata": {},
   "outputs": [],
   "source": [
    "source.to_sql(name='source', con=session, if_exists='append', index=False)"
   ]
  },
  {
   "cell_type": "code",
   "execution_count": null,
   "metadata": {},
   "outputs": [],
   "source": [
    "lexicon.to_sql(name='lexicon', con=session, if_exists='append', index=False)"
   ]
  },
  {
   "cell_type": "code",
   "execution_count": null,
   "metadata": {},
   "outputs": [],
   "source": [
    "source_info.to_sql(name='source_info', con=session, if_exists='append', index=False)"
   ]
  },
  {
   "cell_type": "code",
   "execution_count": null,
   "metadata": {},
   "outputs": [],
   "source": [
    "corpus.to_sql(name='corpus', con=session, if_exists='append', index=False)"
   ]
  }
 ],
 "metadata": {
  "kernelspec": {
   "display_name": "Python 3",
   "language": "python",
   "name": "python3"
  },
  "language_info": {
   "codemirror_mode": {
    "name": "ipython",
    "version": 3
   },
   "file_extension": ".py",
   "mimetype": "text/x-python",
   "name": "python",
   "nbconvert_exporter": "python",
   "pygments_lexer": "ipython3",
   "version": "3.8.5"
  }
 },
 "nbformat": 4,
 "nbformat_minor": 4
}
