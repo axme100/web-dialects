{
 "cells": [
  {
   "cell_type": "markdown",
   "metadata": {},
   "source": [
    "# Create Postgres Database and Import Mark Davies Spanish Web/Dialects Corpus (Sample Files) into Postres SQL Database"
   ]
  },
  {
   "cell_type": "code",
   "execution_count": 1,
   "metadata": {},
   "outputs": [],
   "source": [
    "import os\n",
    "from sqlalchemy import create_engine\n",
    "from sqlalchemy_utils import database_exists, create_database\n",
    "from sqlalchemy.orm import relationship\n",
    "import pandas as pd\n",
    "import numpy as np\n",
    "from sqlalchemy.ext.declarative import declarative_base\n",
    "from sqlalchemy import Column, ForeignKey, String, Integer, Float, Boolean, UniqueConstraint"
   ]
  },
  {
   "cell_type": "code",
   "execution_count": 2,
   "metadata": {},
   "outputs": [
    {
     "name": "stdout",
     "output_type": "stream",
     "text": [
      "True\n"
     ]
    }
   ],
   "source": [
    "# Connect to datbase named corpus\n",
    "dbURL = 'postgres+psycopg2://maxcarey:<password>@localhost:5432/corpus'\n",
    "\n",
    "engine = create_engine(dbURL)\n",
    "\n",
    "# Here it a tutorial that I loosely followed to get the logic for the next\n",
    "# few lines: #https://www.compose.com/articles/using-postgresql-through-sqlalchemy\n",
    "# If the database specified at the end of the database url does not \n",
    "# work then I need this logic in order to create the database\n",
    "# You can see this here: https://stackoverflow.com/a/30971098/5420796\n",
    "if not database_exists(engine.url):\n",
    "    create_database(engine.url)\n",
    "print(database_exists(engine.url))\n",
    "\n",
    "session = engine.connect()\n",
    "Base = declarative_base()"
   ]
  },
  {
   "cell_type": "code",
   "execution_count": 3,
   "metadata": {},
   "outputs": [],
   "source": [
    "class Corpus(Base):\n",
    "    __tablename__ = 'corpus'\n",
    "\n",
    "    # The ordered words in the corpus\n",
    "    corpus_id = Column(String(), unique=True, primary_key=True)\n",
    "    \n",
    "    # The id of the html page in the source table\n",
    "    source_html_id = Column(String(), ForeignKey('source.source_html_id'), ForeignKey('source_info.source_html_id'))\n",
    "    \n",
    "    # The id of the word in the lexicon table\n",
    "    word_id = Column(String(), ForeignKey('lexicon.id'))\n",
    "\n",
    "    # What we have hear is many-to-one relationship in which\n",
    "    # This is the parent table\n",
    "    # See https://docs.sqlalchemy.org/en/13/orm/basic_relationships.html#many-to-one\n",
    "    source = relationship(\"Child\")\n",
    "    lexicon = relationship(\"Lexicon\")"
   ]
  },
  {
   "cell_type": "code",
   "execution_count": 4,
   "metadata": {},
   "outputs": [],
   "source": [
    "class Lexicon(Base):\n",
    "    __tablename__ = 'lexicon'\n",
    "\n",
    "    # The words in the corpus\n",
    "    id = Column(String(), primary_key=True)\n",
    "    \n",
    "    # The headword\n",
    "    word = Column(String())\n",
    "    \n",
    "    # Lemma\n",
    "    lemma = Column(String())\n",
    "    \n",
    "    # The part of speach of the actual word\n",
    "    pos = Column(String())"
   ]
  },
  {
   "cell_type": "code",
   "execution_count": 5,
   "metadata": {},
   "outputs": [],
   "source": [
    "class Source(Base):\n",
    "    __tablename__ = 'source'\n",
    "\n",
    "    # The HTML of the text\n",
    "    source_html_id = Column(String(), primary_key=True)\n",
    "    \n",
    "    # The id of the html page in the source table\n",
    "    text = Column(String())"
   ]
  },
  {
   "cell_type": "code",
   "execution_count": 6,
   "metadata": {},
   "outputs": [],
   "source": [
    "class SourceInfo(Base):\n",
    "    __tablename__ = 'source_info'\n",
    "    \n",
    "    # The id of the actual text\n",
    "    source_html_id = Column(String(), primary_key=True)\n",
    "    \n",
    "    # Num words\n",
    "    num_words = Column(Integer())\n",
    "    \n",
    "    # Genre\n",
    "    genre = Column(String())\n",
    "    \n",
    "    # Country\n",
    "    country = Column(String())\n",
    "    \n",
    "    # Website\n",
    "    website = Column(String())\n",
    "    \n",
    "    # URL\n",
    "    url = Column(String())\n",
    "    \n",
    "    # Title\n",
    "    title = Column(String())"
   ]
  },
  {
   "cell_type": "code",
   "execution_count": 7,
   "metadata": {},
   "outputs": [
    {
     "name": "stdout",
     "output_type": "stream",
     "text": [
      "True\n"
     ]
    }
   ],
   "source": [
    "Base.metadata.create_all(engine)\n",
    "print(database_exists(engine.url))"
   ]
  },
  {
   "cell_type": "code",
   "execution_count": 8,
   "metadata": {},
   "outputs": [],
   "source": [
    "corpus = pd.read_csv('raw_data/corpus.txt', delimiter='\\t')\n",
    "source = pd.read_csv('raw_data/source.txt', delimiter='\\t')\n",
    "lexicon = pd.read_csv('raw_data/lexicon.txt', delimiter='\\t')\n",
    "source_info = pd.read_csv('raw_data/source_info.txt', delimiter='\\t')"
   ]
  },
  {
   "cell_type": "code",
   "execution_count": 9,
   "metadata": {},
   "outputs": [
    {
     "data": {
      "text/html": [
       "<div>\n",
       "<style scoped>\n",
       "    .dataframe tbody tr th:only-of-type {\n",
       "        vertical-align: middle;\n",
       "    }\n",
       "\n",
       "    .dataframe tbody tr th {\n",
       "        vertical-align: top;\n",
       "    }\n",
       "\n",
       "    .dataframe thead th {\n",
       "        text-align: right;\n",
       "    }\n",
       "</style>\n",
       "<table border=\"1\" class=\"dataframe\">\n",
       "  <thead>\n",
       "    <tr style=\"text-align: right;\">\n",
       "      <th></th>\n",
       "      <th>textID</th>\n",
       "      <th>#words</th>\n",
       "      <th>genre</th>\n",
       "      <th>country</th>\n",
       "      <th>website</th>\n",
       "      <th>url</th>\n",
       "      <th>title</th>\n",
       "    </tr>\n",
       "  </thead>\n",
       "  <tbody>\n",
       "    <tr>\n",
       "      <th>0</th>\n",
       "      <td>124</td>\n",
       "      <td>268.0</td>\n",
       "      <td>b</td>\n",
       "      <td>AR</td>\n",
       "      <td>03442.com.ar</td>\n",
       "      <td>http://03442.com.ar/2013/07/gran-convocatoria-...</td>\n",
       "      <td>Gran convocatoria para el concurso docente que...</td>\n",
       "    </tr>\n",
       "    <tr>\n",
       "      <th>1</th>\n",
       "      <td>1124</td>\n",
       "      <td>679.0</td>\n",
       "      <td>b</td>\n",
       "      <td>AR</td>\n",
       "      <td>adnrionegro.com.ar</td>\n",
       "      <td>http://adnrionegro.com.ar/2012/06/weretilneck-...</td>\n",
       "      <td>Weretilneck anunció que se reforzará la seguri...</td>\n",
       "    </tr>\n",
       "    <tr>\n",
       "      <th>2</th>\n",
       "      <td>2124</td>\n",
       "      <td>1100.0</td>\n",
       "      <td>b</td>\n",
       "      <td>AR</td>\n",
       "      <td>agmer.org.ar</td>\n",
       "      <td>http://agmer.org.ar/index/4494-peccin-no-hay-u...</td>\n",
       "      <td>Peccín: “No hay un solo paso atrás” - Agmer</td>\n",
       "    </tr>\n",
       "    <tr>\n",
       "      <th>3</th>\n",
       "      <td>4124</td>\n",
       "      <td>3445.0</td>\n",
       "      <td>b</td>\n",
       "      <td>AR</td>\n",
       "      <td>bibliotecaignoria.blogspot.com</td>\n",
       "      <td>http://bibliotecaignoria.blogspot.com/2012/06/...</td>\n",
       "      <td>Mario Vargas Llosa: La desaparición del erotis...</td>\n",
       "    </tr>\n",
       "    <tr>\n",
       "      <th>4</th>\n",
       "      <td>5124</td>\n",
       "      <td>403.0</td>\n",
       "      <td>b</td>\n",
       "      <td>AR</td>\n",
       "      <td>argentina-actual.com.ar</td>\n",
       "      <td>http://argentina-actual.com.ar/noticias/el-cof...</td>\n",
       "      <td>El CoFeCA solicita a la Corte que se expida so...</td>\n",
       "    </tr>\n",
       "    <tr>\n",
       "      <th>...</th>\n",
       "      <td>...</td>\n",
       "      <td>...</td>\n",
       "      <td>...</td>\n",
       "      <td>...</td>\n",
       "      <td>...</td>\n",
       "      <td>...</td>\n",
       "      <td>...</td>\n",
       "    </tr>\n",
       "    <tr>\n",
       "      <th>95</th>\n",
       "      <td>105124</td>\n",
       "      <td>412.0</td>\n",
       "      <td>b</td>\n",
       "      <td>AR</td>\n",
       "      <td>unmetroadelantado.com</td>\n",
       "      <td>http://www.unmetroadelantado.com/2013/04/emo-c...</td>\n",
       "      <td>UN METRO ADELANTADO: EMO-CIONANTE</td>\n",
       "    </tr>\n",
       "    <tr>\n",
       "      <th>96</th>\n",
       "      <td>106124</td>\n",
       "      <td>347.0</td>\n",
       "      <td>b</td>\n",
       "      <td>AR</td>\n",
       "      <td>vineadesencantar.com.ar</td>\n",
       "      <td>http://www.vineadesencantar.com.ar/2010/11/si-...</td>\n",
       "      <td>Si te he visto no me acuerdo - vine a desencan...</td>\n",
       "    </tr>\n",
       "    <tr>\n",
       "      <th>97</th>\n",
       "      <td>107124</td>\n",
       "      <td>1147.0</td>\n",
       "      <td>b</td>\n",
       "      <td>AR</td>\n",
       "      <td>wim-network.org</td>\n",
       "      <td>http://www.wim-network.org/2013/08/paises-de-l...</td>\n",
       "      <td>Países de la región adoptan el Consenso de Mon...</td>\n",
       "    </tr>\n",
       "    <tr>\n",
       "      <th>98</th>\n",
       "      <td>108124</td>\n",
       "      <td>566.0</td>\n",
       "      <td>b</td>\n",
       "      <td>AR</td>\n",
       "      <td>zankyou.terra.com.ar</td>\n",
       "      <td>http://zankyou.terra.com.ar/p/top-5-de-bodas-t...</td>\n",
       "      <td>Top 5 de bodas temáticas - Zankyou</td>\n",
       "    </tr>\n",
       "    <tr>\n",
       "      <th>99</th>\n",
       "      <td>118124</td>\n",
       "      <td>5984.0</td>\n",
       "      <td>b</td>\n",
       "      <td>BO</td>\n",
       "      <td>hojadelsur.blogspot.com</td>\n",
       "      <td>http://hojadelsur.blogspot.com/2011_11_01_arch...</td>\n",
       "      <td>Hoja del Sur: noviembre 2011</td>\n",
       "    </tr>\n",
       "  </tbody>\n",
       "</table>\n",
       "<p>100 rows × 7 columns</p>\n",
       "</div>"
      ],
      "text/plain": [
       "    textID  #words genre country                         website  \\\n",
       "0      124   268.0     b      AR                    03442.com.ar   \n",
       "1     1124   679.0     b      AR              adnrionegro.com.ar   \n",
       "2     2124  1100.0     b      AR                    agmer.org.ar   \n",
       "3     4124  3445.0     b      AR  bibliotecaignoria.blogspot.com   \n",
       "4     5124   403.0     b      AR         argentina-actual.com.ar   \n",
       "..     ...     ...   ...     ...                             ...   \n",
       "95  105124   412.0     b      AR           unmetroadelantado.com   \n",
       "96  106124   347.0     b      AR         vineadesencantar.com.ar   \n",
       "97  107124  1147.0     b      AR                 wim-network.org   \n",
       "98  108124   566.0     b      AR            zankyou.terra.com.ar   \n",
       "99  118124  5984.0     b      BO         hojadelsur.blogspot.com   \n",
       "\n",
       "                                                  url  \\\n",
       "0   http://03442.com.ar/2013/07/gran-convocatoria-...   \n",
       "1   http://adnrionegro.com.ar/2012/06/weretilneck-...   \n",
       "2   http://agmer.org.ar/index/4494-peccin-no-hay-u...   \n",
       "3   http://bibliotecaignoria.blogspot.com/2012/06/...   \n",
       "4   http://argentina-actual.com.ar/noticias/el-cof...   \n",
       "..                                                ...   \n",
       "95  http://www.unmetroadelantado.com/2013/04/emo-c...   \n",
       "96  http://www.vineadesencantar.com.ar/2010/11/si-...   \n",
       "97  http://www.wim-network.org/2013/08/paises-de-l...   \n",
       "98  http://zankyou.terra.com.ar/p/top-5-de-bodas-t...   \n",
       "99  http://hojadelsur.blogspot.com/2011_11_01_arch...   \n",
       "\n",
       "                                                title  \n",
       "0   Gran convocatoria para el concurso docente que...  \n",
       "1   Weretilneck anunció que se reforzará la seguri...  \n",
       "2         Peccín: “No hay un solo paso atrás” - Agmer  \n",
       "3   Mario Vargas Llosa: La desaparición del erotis...  \n",
       "4   El CoFeCA solicita a la Corte que se expida so...  \n",
       "..                                                ...  \n",
       "95                  UN METRO ADELANTADO: EMO-CIONANTE  \n",
       "96  Si te he visto no me acuerdo - vine a desencan...  \n",
       "97  Países de la región adoptan el Consenso de Mon...  \n",
       "98                 Top 5 de bodas temáticas - Zankyou  \n",
       "99                       Hoja del Sur: noviembre 2011  \n",
       "\n",
       "[100 rows x 7 columns]"
      ]
     },
     "execution_count": 9,
     "metadata": {},
     "output_type": "execute_result"
    }
   ],
   "source": [
    "source_info.head(n=100)"
   ]
  },
  {
   "cell_type": "code",
   "execution_count": 10,
   "metadata": {},
   "outputs": [],
   "source": [
    "# Change the names of the corpus to make it a little easier to understnad\n",
    "corpus = corpus.rename(columns={\"textID\": \"source_html_id\", \"ID\": \"corpus_id\", \"wID\": \"word_id\"})\n",
    "source = source.rename(columns={\"textID\": \"source_html_id\"})\n",
    "lexicon = lexicon.rename(columns={\"wID\": \"id\", \"PoS\": \"pos\"})\n",
    "source_info = source_info.rename(columns={\"textID\": \"source_html_id\", \"#words\": \"num_words\"})"
   ]
  },
  {
   "cell_type": "code",
   "execution_count": 11,
   "metadata": {},
   "outputs": [],
   "source": [
    "source.to_sql(name='source', con=session, if_exists='append', index=False)"
   ]
  },
  {
   "cell_type": "code",
   "execution_count": 12,
   "metadata": {},
   "outputs": [],
   "source": [
    "lexicon.to_sql(name='lexicon', con=session, if_exists='append', index=False)"
   ]
  },
  {
   "cell_type": "code",
   "execution_count": 13,
   "metadata": {},
   "outputs": [],
   "source": [
    "source_info.to_sql(name='source_info', con=session, if_exists='append', index=False)"
   ]
  },
  {
   "cell_type": "code",
   "execution_count": 14,
   "metadata": {},
   "outputs": [],
   "source": [
    "corpus.to_sql(name='corpus', con=session, if_exists='append', index=False)"
   ]
  }
 ],
 "metadata": {
  "kernelspec": {
   "display_name": "Python 3",
   "language": "python",
   "name": "python3"
  },
  "language_info": {
   "codemirror_mode": {
    "name": "ipython",
    "version": 3
   },
   "file_extension": ".py",
   "mimetype": "text/x-python",
   "name": "python",
   "nbconvert_exporter": "python",
   "pygments_lexer": "ipython3",
   "version": "3.8.5"
  }
 },
 "nbformat": 4,
 "nbformat_minor": 4
}
